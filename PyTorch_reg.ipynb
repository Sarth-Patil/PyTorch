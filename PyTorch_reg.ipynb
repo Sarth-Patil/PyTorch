{
  "nbformat": 4,
  "nbformat_minor": 0,
  "metadata": {
    "colab": {
      "name": "PyTorch_reg.ipynb",
      "version": "0.3.2",
      "provenance": [],
      "collapsed_sections": []
    },
    "kernelspec": {
      "name": "python3",
      "display_name": "Python 3"
    },
    "accelerator": "GPU"
  },
  "cells": [
    {
      "cell_type": "code",
      "metadata": {
        "id": "jHrOQK3FiurM",
        "colab_type": "code",
        "colab": {}
      },
      "source": [
        "import torch\n",
        "import torch.nn.functional as f\n",
        "import torch.nn as nn\n",
        "import pandas as pd\n",
        "import matplotlib.pyplot as plt\n",
        "import numpy as np"
      ],
      "execution_count": 0,
      "outputs": []
    },
    {
      "cell_type": "code",
      "metadata": {
        "id": "T88wH3W1i0y_",
        "colab_type": "code",
        "outputId": "68f38db6-65a5-49c1-d7d3-7c48dcfc0565",
        "colab": {
          "resources": {
            "http://localhost:8080/nbextensions/google.colab/files.js": {
              "data": "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",
              "ok": true,
              "headers": [
                [
                  "content-type",
                  "application/javascript"
                ]
              ],
              "status": 200,
              "status_text": ""
            }
          },
          "base_uri": "https://localhost:8080/",
          "height": 93
        }
      },
      "source": [
        "from google.colab import files\n",
        "\n",
        "uploaded = files.upload()\n",
        "\n",
        "for fn in uploaded.keys():\n",
        "  print('data'.format(\n",
        "      name=fn, length=len(uploaded[fn])))"
      ],
      "execution_count": 2,
      "outputs": [
        {
          "output_type": "display_data",
          "data": {
            "text/html": [
              "\n",
              "     <input type=\"file\" id=\"files-253e66bf-0119-4f6b-a067-05485c4aad03\" name=\"files[]\" multiple disabled />\n",
              "     <output id=\"result-253e66bf-0119-4f6b-a067-05485c4aad03\">\n",
              "      Upload widget is only available when the cell has been executed in the\n",
              "      current browser session. Please rerun this cell to enable.\n",
              "      </output>\n",
              "      <script src=\"/nbextensions/google.colab/files.js\"></script> "
            ],
            "text/plain": [
              "<IPython.core.display.HTML object>"
            ]
          },
          "metadata": {
            "tags": []
          }
        },
        {
          "output_type": "stream",
          "text": [
            "Saving Salary_Data.csv to Salary_Data.csv\n",
            "data\n"
          ],
          "name": "stdout"
        }
      ]
    },
    {
      "cell_type": "code",
      "metadata": {
        "id": "IAJlXm7Ji02J",
        "colab_type": "code",
        "colab": {}
      },
      "source": [
        "data=pd.read_csv(\"Salary_Data.csv\")"
      ],
      "execution_count": 0,
      "outputs": []
    },
    {
      "cell_type": "code",
      "metadata": {
        "id": "3PVSoVzmPqT7",
        "colab_type": "code",
        "colab": {}
      },
      "source": [
        "x_train = np.array([data['YearsExperience'].values],dtype=np.float32)\n",
        "\n",
        "y_train = np.array([data['Salary'].values], dtype=np.float32)\n",
        "\n",
        "x_train = x_train.reshape(-1, 1).astype('float32')\n",
        "y_train = y_train.reshape(-1, 1).astype('float32')"
      ],
      "execution_count": 0,
      "outputs": []
    },
    {
      "cell_type": "code",
      "metadata": {
        "id": "H0aRag93Py0i",
        "colab_type": "code",
        "colab": {}
      },
      "source": [
        "input_size = 1\n",
        "output_size = 1\n",
        "num_epochs = 1000\n",
        "learning_rate = 0.02"
      ],
      "execution_count": 0,
      "outputs": []
    },
    {
      "cell_type": "code",
      "metadata": {
        "id": "91HIfyT2P9EC",
        "colab_type": "code",
        "colab": {
          "base_uri": "https://localhost:8080/",
          "height": 3654
        },
        "outputId": "b57e517c-c151-4406-e479-d12f7446b3f0"
      },
      "source": [
        "model = nn.Linear(input_size, output_size)\n",
        "\n",
        "criterion = nn.MSELoss()\n",
        "optimizer = torch.optim.SGD(model.parameters(), lr=learning_rate)  \n",
        "\n",
        "\n",
        "for epoch in range(num_epochs):\n",
        "    inputs = torch.from_numpy(x_train)\n",
        "    targets = torch.from_numpy(y_train)\n",
        "\n",
        "    outputs = model(inputs)\n",
        "    loss = criterion(outputs, targets)\n",
        "    \n",
        "    optimizer.zero_grad()\n",
        "    loss.backward()\n",
        "    optimizer.step()\n",
        "    \n",
        "    if (epoch+1) % 5 == 0:\n",
        "        print ('Epoch [{}/{}], Loss: {:.2f}'.format(epoch+1, num_epochs, loss.item()))"
      ],
      "execution_count": 8,
      "outputs": [
        {
          "output_type": "stream",
          "text": [
            "Epoch [5/1000], Loss: 161997504.00\n",
            "Epoch [10/1000], Loss: 136940144.00\n",
            "Epoch [15/1000], Loss: 128324400.00\n",
            "Epoch [20/1000], Loss: 120418456.00\n",
            "Epoch [25/1000], Loss: 113156528.00\n",
            "Epoch [30/1000], Loss: 106486176.00\n",
            "Epoch [35/1000], Loss: 100359184.00\n",
            "Epoch [40/1000], Loss: 94731280.00\n",
            "Epoch [45/1000], Loss: 89561824.00\n",
            "Epoch [50/1000], Loss: 84813472.00\n",
            "Epoch [55/1000], Loss: 80451928.00\n",
            "Epoch [60/1000], Loss: 76445656.00\n",
            "Epoch [65/1000], Loss: 72765728.00\n",
            "Epoch [70/1000], Loss: 69385576.00\n",
            "Epoch [75/1000], Loss: 66280792.00\n",
            "Epoch [80/1000], Loss: 63428892.00\n",
            "Epoch [85/1000], Loss: 60809320.00\n",
            "Epoch [90/1000], Loss: 58403144.00\n",
            "Epoch [95/1000], Loss: 56192960.00\n",
            "Epoch [100/1000], Loss: 54162820.00\n",
            "Epoch [105/1000], Loss: 52298064.00\n",
            "Epoch [110/1000], Loss: 50585204.00\n",
            "Epoch [115/1000], Loss: 49011864.00\n",
            "Epoch [120/1000], Loss: 47566700.00\n",
            "Epoch [125/1000], Loss: 46239256.00\n",
            "Epoch [130/1000], Loss: 45019948.00\n",
            "Epoch [135/1000], Loss: 43899968.00\n",
            "Epoch [140/1000], Loss: 42871216.00\n",
            "Epoch [145/1000], Loss: 41926264.00\n",
            "Epoch [150/1000], Loss: 41058272.00\n",
            "Epoch [155/1000], Loss: 40261016.00\n",
            "Epoch [160/1000], Loss: 39528684.00\n",
            "Epoch [165/1000], Loss: 38856016.00\n",
            "Epoch [170/1000], Loss: 38238136.00\n",
            "Epoch [175/1000], Loss: 37670596.00\n",
            "Epoch [180/1000], Loss: 37149284.00\n",
            "Epoch [185/1000], Loss: 36670432.00\n",
            "Epoch [190/1000], Loss: 36230592.00\n",
            "Epoch [195/1000], Loss: 35826580.00\n",
            "Epoch [200/1000], Loss: 35455472.00\n",
            "Epoch [205/1000], Loss: 35114612.00\n",
            "Epoch [210/1000], Loss: 34801512.00\n",
            "Epoch [215/1000], Loss: 34513908.00\n",
            "Epoch [220/1000], Loss: 34249736.00\n",
            "Epoch [225/1000], Loss: 34007100.00\n",
            "Epoch [230/1000], Loss: 33784196.00\n",
            "Epoch [235/1000], Loss: 33579472.00\n",
            "Epoch [240/1000], Loss: 33391418.00\n",
            "Epoch [245/1000], Loss: 33218692.00\n",
            "Epoch [250/1000], Loss: 33060036.00\n",
            "Epoch [255/1000], Loss: 32914292.00\n",
            "Epoch [260/1000], Loss: 32780422.00\n",
            "Epoch [265/1000], Loss: 32657452.00\n",
            "Epoch [270/1000], Loss: 32544514.00\n",
            "Epoch [275/1000], Loss: 32440772.00\n",
            "Epoch [280/1000], Loss: 32345490.00\n",
            "Epoch [285/1000], Loss: 32257954.00\n",
            "Epoch [290/1000], Loss: 32177556.00\n",
            "Epoch [295/1000], Loss: 32103700.00\n",
            "Epoch [300/1000], Loss: 32035872.00\n",
            "Epoch [305/1000], Loss: 31973560.00\n",
            "Epoch [310/1000], Loss: 31916316.00\n",
            "Epoch [315/1000], Loss: 31863758.00\n",
            "Epoch [320/1000], Loss: 31815462.00\n",
            "Epoch [325/1000], Loss: 31771104.00\n",
            "Epoch [330/1000], Loss: 31730360.00\n",
            "Epoch [335/1000], Loss: 31692938.00\n",
            "Epoch [340/1000], Loss: 31658560.00\n",
            "Epoch [345/1000], Loss: 31626998.00\n",
            "Epoch [350/1000], Loss: 31597994.00\n",
            "Epoch [355/1000], Loss: 31571348.00\n",
            "Epoch [360/1000], Loss: 31546882.00\n",
            "Epoch [365/1000], Loss: 31524412.00\n",
            "Epoch [370/1000], Loss: 31503752.00\n",
            "Epoch [375/1000], Loss: 31484794.00\n",
            "Epoch [380/1000], Loss: 31467382.00\n",
            "Epoch [385/1000], Loss: 31451370.00\n",
            "Epoch [390/1000], Loss: 31436678.00\n",
            "Epoch [395/1000], Loss: 31423168.00\n",
            "Epoch [400/1000], Loss: 31410772.00\n",
            "Epoch [405/1000], Loss: 31399392.00\n",
            "Epoch [410/1000], Loss: 31388926.00\n",
            "Epoch [415/1000], Loss: 31379318.00\n",
            "Epoch [420/1000], Loss: 31370494.00\n",
            "Epoch [425/1000], Loss: 31362386.00\n",
            "Epoch [430/1000], Loss: 31354932.00\n",
            "Epoch [435/1000], Loss: 31348098.00\n",
            "Epoch [440/1000], Loss: 31341802.00\n",
            "Epoch [445/1000], Loss: 31336040.00\n",
            "Epoch [450/1000], Loss: 31330730.00\n",
            "Epoch [455/1000], Loss: 31325870.00\n",
            "Epoch [460/1000], Loss: 31321392.00\n",
            "Epoch [465/1000], Loss: 31317286.00\n",
            "Epoch [470/1000], Loss: 31313514.00\n",
            "Epoch [475/1000], Loss: 31310042.00\n",
            "Epoch [480/1000], Loss: 31306856.00\n",
            "Epoch [485/1000], Loss: 31303928.00\n",
            "Epoch [490/1000], Loss: 31301250.00\n",
            "Epoch [495/1000], Loss: 31298778.00\n",
            "Epoch [500/1000], Loss: 31296506.00\n",
            "Epoch [505/1000], Loss: 31294428.00\n",
            "Epoch [510/1000], Loss: 31292508.00\n",
            "Epoch [515/1000], Loss: 31290758.00\n",
            "Epoch [520/1000], Loss: 31289134.00\n",
            "Epoch [525/1000], Loss: 31287660.00\n",
            "Epoch [530/1000], Loss: 31286308.00\n",
            "Epoch [535/1000], Loss: 31285060.00\n",
            "Epoch [540/1000], Loss: 31283904.00\n",
            "Epoch [545/1000], Loss: 31282840.00\n",
            "Epoch [550/1000], Loss: 31281884.00\n",
            "Epoch [555/1000], Loss: 31280984.00\n",
            "Epoch [560/1000], Loss: 31280178.00\n",
            "Epoch [565/1000], Loss: 31279418.00\n",
            "Epoch [570/1000], Loss: 31278736.00\n",
            "Epoch [575/1000], Loss: 31278100.00\n",
            "Epoch [580/1000], Loss: 31277512.00\n",
            "Epoch [585/1000], Loss: 31276980.00\n",
            "Epoch [590/1000], Loss: 31276492.00\n",
            "Epoch [595/1000], Loss: 31276034.00\n",
            "Epoch [600/1000], Loss: 31275632.00\n",
            "Epoch [605/1000], Loss: 31275248.00\n",
            "Epoch [610/1000], Loss: 31274894.00\n",
            "Epoch [615/1000], Loss: 31274578.00\n",
            "Epoch [620/1000], Loss: 31274278.00\n",
            "Epoch [625/1000], Loss: 31274002.00\n",
            "Epoch [630/1000], Loss: 31273754.00\n",
            "Epoch [635/1000], Loss: 31273526.00\n",
            "Epoch [640/1000], Loss: 31273324.00\n",
            "Epoch [645/1000], Loss: 31273122.00\n",
            "Epoch [650/1000], Loss: 31272948.00\n",
            "Epoch [655/1000], Loss: 31272786.00\n",
            "Epoch [660/1000], Loss: 31272632.00\n",
            "Epoch [665/1000], Loss: 31272506.00\n",
            "Epoch [670/1000], Loss: 31272376.00\n",
            "Epoch [675/1000], Loss: 31272252.00\n",
            "Epoch [680/1000], Loss: 31272156.00\n",
            "Epoch [685/1000], Loss: 31272058.00\n",
            "Epoch [690/1000], Loss: 31271970.00\n",
            "Epoch [695/1000], Loss: 31271880.00\n",
            "Epoch [700/1000], Loss: 31271804.00\n",
            "Epoch [705/1000], Loss: 31271734.00\n",
            "Epoch [710/1000], Loss: 31271686.00\n",
            "Epoch [715/1000], Loss: 31271618.00\n",
            "Epoch [720/1000], Loss: 31271552.00\n",
            "Epoch [725/1000], Loss: 31271506.00\n",
            "Epoch [730/1000], Loss: 31271460.00\n",
            "Epoch [735/1000], Loss: 31271430.00\n",
            "Epoch [740/1000], Loss: 31271388.00\n",
            "Epoch [745/1000], Loss: 31271360.00\n",
            "Epoch [750/1000], Loss: 31271318.00\n",
            "Epoch [755/1000], Loss: 31271280.00\n",
            "Epoch [760/1000], Loss: 31271266.00\n",
            "Epoch [765/1000], Loss: 31271234.00\n",
            "Epoch [770/1000], Loss: 31271220.00\n",
            "Epoch [775/1000], Loss: 31271194.00\n",
            "Epoch [780/1000], Loss: 31271182.00\n",
            "Epoch [785/1000], Loss: 31271156.00\n",
            "Epoch [790/1000], Loss: 31271140.00\n",
            "Epoch [795/1000], Loss: 31271120.00\n",
            "Epoch [800/1000], Loss: 31271116.00\n",
            "Epoch [805/1000], Loss: 31271088.00\n",
            "Epoch [810/1000], Loss: 31271080.00\n",
            "Epoch [815/1000], Loss: 31271076.00\n",
            "Epoch [820/1000], Loss: 31271066.00\n",
            "Epoch [825/1000], Loss: 31271056.00\n",
            "Epoch [830/1000], Loss: 31271054.00\n",
            "Epoch [835/1000], Loss: 31271030.00\n",
            "Epoch [840/1000], Loss: 31271030.00\n",
            "Epoch [845/1000], Loss: 31271026.00\n",
            "Epoch [850/1000], Loss: 31271026.00\n",
            "Epoch [855/1000], Loss: 31271014.00\n",
            "Epoch [860/1000], Loss: 31271016.00\n",
            "Epoch [865/1000], Loss: 31271000.00\n",
            "Epoch [870/1000], Loss: 31271002.00\n",
            "Epoch [875/1000], Loss: 31270998.00\n",
            "Epoch [880/1000], Loss: 31270986.00\n",
            "Epoch [885/1000], Loss: 31270992.00\n",
            "Epoch [890/1000], Loss: 31270986.00\n",
            "Epoch [895/1000], Loss: 31270986.00\n",
            "Epoch [900/1000], Loss: 31270990.00\n",
            "Epoch [905/1000], Loss: 31270978.00\n",
            "Epoch [910/1000], Loss: 31270976.00\n",
            "Epoch [915/1000], Loss: 31270974.00\n",
            "Epoch [920/1000], Loss: 31270974.00\n",
            "Epoch [925/1000], Loss: 31270966.00\n",
            "Epoch [930/1000], Loss: 31270964.00\n",
            "Epoch [935/1000], Loss: 31270968.00\n",
            "Epoch [940/1000], Loss: 31270962.00\n",
            "Epoch [945/1000], Loss: 31270964.00\n",
            "Epoch [950/1000], Loss: 31270962.00\n",
            "Epoch [955/1000], Loss: 31270964.00\n",
            "Epoch [960/1000], Loss: 31270966.00\n",
            "Epoch [965/1000], Loss: 31270960.00\n",
            "Epoch [970/1000], Loss: 31270964.00\n",
            "Epoch [975/1000], Loss: 31270964.00\n",
            "Epoch [980/1000], Loss: 31270966.00\n",
            "Epoch [985/1000], Loss: 31270960.00\n",
            "Epoch [990/1000], Loss: 31270960.00\n",
            "Epoch [995/1000], Loss: 31270954.00\n",
            "Epoch [1000/1000], Loss: 31270958.00\n"
          ],
          "name": "stdout"
        }
      ]
    },
    {
      "cell_type": "code",
      "metadata": {
        "id": "UTDs7dP7p8QD",
        "colab_type": "code",
        "outputId": "2a4dd0ed-3532-4a63-f647-7d11f8714cfb",
        "colab": {
          "base_uri": "https://localhost:8080/",
          "height": 269
        }
      },
      "source": [
        "predicted = model(torch.from_numpy(x_train)).detach().numpy()\n",
        "plt.plot(x_train, y_train, 'ro', label='Original data')\n",
        "plt.plot(x_train, predicted, label='Fitted line')\n",
        "plt.legend()\n",
        "plt.show()\n"
      ],
      "execution_count": 9,
      "outputs": [
        {
          "output_type": "display_data",
          "data": {
            "image/png": "[encoded data removed]",
            "text/plain": [
              "<Figure size 432x288 with 1 Axes>"
            ]
          },
          "metadata": {
            "tags": []
          }
        }
      ]
    }
  ]
}